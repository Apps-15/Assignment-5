{
 "cells": [
  {
   "cell_type": "code",
   "execution_count": 23,
   "metadata": {},
   "outputs": [
    {
     "name": "stdout",
     "output_type": "stream",
     "text": [
      "Original numbers: [2, 3, 4, 5]\n",
      "Squared numbers: [4, 9, 16, 25]\n",
      "Sum of squared numbers: 54\n"
     ]
    }
   ],
   "source": [
    "def square_and_sum(numbers):\n",
    "    squared_numbers = [num ** 2 for num in numbers]\n",
    "    total_sum = sum(squared_numbers)\n",
    "    return total_sum\n",
    "\n",
    "# Input: List of numbers\n",
    "numbers = [2, 3, 4, 5]\n",
    "\n",
    "# Calculate the sum of squared numbers\n",
    "result = square_and_sum(numbers)\n",
    "\n",
    "# Output\n",
    "print(f\"Original numbers: {numbers}\")\n",
    "print(f\"Squared numbers: {[num ** 2 for num in numbers]}\")\n",
    "print(f\"Sum of squared numbers: {result}\")\n"
   ]
  },
  {
   "cell_type": "code",
   "execution_count": 24,
   "metadata": {},
   "outputs": [
    {
     "name": "stdout",
     "output_type": "stream",
     "text": [
      "Original values: x = 2, y = 3, z = 4\n",
      "Squared sum of x, y, and z: 29\n"
     ]
    }
   ],
   "source": [
    "class Point:\n",
    "    def __init__(self, x, y, z):\n",
    "        self.x = x\n",
    "        self.y = y\n",
    "        self.z = z\n",
    "        \n",
    "    def sqSum(self):\n",
    "        squared_sum = self.x ** 2 + self.y ** 2 + self.z ** 2\n",
    "        return squared_sum\n",
    "\n",
    "# Create a Point object\n",
    "point = Point(2, 3, 4)\n",
    "\n",
    "# Calculate the sum of squared values\n",
    "result = point.sqSum()\n",
    "\n",
    "# Output\n",
    "print(f\"Original values: x = {point.x}, y = {point.y}, z = {point.z}\")\n",
    "print(f\"Squared sum of x, y, and z: {result}\")"
   ]
  },
  {
   "cell_type": "code",
   "execution_count": 25,
   "metadata": {},
   "outputs": [
    {
     "name": "stdout",
     "output_type": "stream",
     "text": [
      "num1: 10\n",
      "num2: 5\n"
     ]
    }
   ],
   "source": [
    "class Calculator:\n",
    "    def __init__(self, num1, num2):\n",
    "        self.num1 = num1\n",
    "        self.num2 = num2\n",
    "\n",
    "# Create a Calculator object with initial values\n",
    "calc = Calculator(10, 5)\n",
    "\n",
    "# Accessing the num1 and num2 properties\n",
    "print(f\"num1: {calc.num1}\")\n",
    "print(f\"num2: {calc.num2}\")\n"
   ]
  },
  {
   "cell_type": "code",
   "execution_count": 26,
   "metadata": {},
   "outputs": [
    {
     "name": "stdout",
     "output_type": "stream",
     "text": [
      "Addition: 15\n",
      "Subtraction: -5\n",
      "Multiplication: 50\n",
      "Division: 0.5\n"
     ]
    }
   ],
   "source": [
    "class Calculator:\n",
    "    def __init__(self, num1, num2):\n",
    "        self.num1 = num1\n",
    "        self.num2 = num2\n",
    "    \n",
    "    def add(self):\n",
    "        return self.num1 + self.num2\n",
    "    \n",
    "    def subtract(self):\n",
    "        return self.num2 - self.num1\n",
    "    \n",
    "    def multiply(self):\n",
    "        return self.num1 * self.num2\n",
    "    \n",
    "    def divide(self):\n",
    "        if self.num1 != 0:\n",
    "            return self.num2 / self.num1\n",
    "        else:\n",
    "            raise ValueError(\"Cannot divide by zero.\")\n",
    "\n",
    "# Create a Calculator object with initial values\n",
    "calc = Calculator(10, 5)\n",
    "\n",
    "# Perform calculations\n",
    "print(\"Addition:\", calc.add())\n",
    "print(\"Subtraction:\", calc.subtract())\n",
    "print(\"Multiplication:\", calc.multiply())\n",
    "print(\"Division:\", calc.divide())\n"
   ]
  },
  {
   "cell_type": "code",
   "execution_count": 27,
   "metadata": {},
   "outputs": [
    {
     "name": "stdout",
     "output_type": "stream",
     "text": [
      "Initial Name: John Doe\n",
      "Initial Roll Number: 12345\n",
      "Updated Name: Alice Smith\n",
      "Updated Roll Number: 67890\n"
     ]
    }
   ],
   "source": [
    "class Student:\n",
    "    def __init__(self, name, roll_number):\n",
    "        self.__name = name\n",
    "        self.__roll_number = roll_number\n",
    "    \n",
    "    def getName(self):\n",
    "        return self.__name\n",
    "    \n",
    "    def setName(self, name):\n",
    "        self.__name = name\n",
    "    \n",
    "    def getRollNumber(self):\n",
    "        return self.__roll_number\n",
    "    \n",
    "    def setRollNumber(self, roll_number):\n",
    "        self.__roll_number = roll_number\n",
    "\n",
    "# Create a Student object\n",
    "student = Student(\"John Doe\", \"12345\")\n",
    "\n",
    "# Get initial values\n",
    "print(\"Initial Name:\", student.getName())\n",
    "print(\"Initial Roll Number:\", student.getRollNumber())\n",
    "\n",
    "# Update values using setter methods\n",
    "student.setName(\"Alice Smith\")\n",
    "student.setRollNumber(\"67890\")\n",
    "\n",
    "# Get updated values\n",
    "print(\"Updated Name:\", student.getName())\n",
    "print(\"Updated Roll Number:\", student.getRollNumber())\n"
   ]
  },
  {
   "cell_type": "code",
   "execution_count": 28,
   "metadata": {},
   "outputs": [
    {
     "name": "stdout",
     "output_type": "stream",
     "text": [
      "Account Title: Ashish\n",
      "Account Balance: 5000\n",
      "Savings Account Title: Ashish\n",
      "Savings Account Balance: 5000\n",
      "Savings Account Interest Rate: 5\n"
     ]
    }
   ],
   "source": [
    "class Account:\n",
    "    def __init__(self, title, balance):\n",
    "        self.title = title\n",
    "        self.balance = balance\n",
    "\n",
    "\n",
    "class SavingsAccount(Account):\n",
    "    def __init__(self, title, balance, interestRate):\n",
    "        super().__init__(title, balance)\n",
    "        self.interestRate = interestRate\n",
    "\n",
    "\n",
    "# Create an Account object\n",
    "account = Account(\"Ashish\", 5000)\n",
    "\n",
    "# Display Account details\n",
    "print(\"Account Title:\", account.title)\n",
    "print(\"Account Balance:\", account.balance)\n",
    "\n",
    "# Create a SavingsAccount object\n",
    "savings_account = SavingsAccount(\"Ashish\", 5000, 5)\n",
    "\n",
    "# Display SavingsAccount details\n",
    "print(\"Savings Account Title:\", savings_account.title)\n",
    "print(\"Savings Account Balance:\", savings_account.balance)\n",
    "print(\"Savings Account Interest Rate:\", savings_account.interestRate)\n"
   ]
  },
  {
   "cell_type": "code",
   "execution_count": 29,
   "metadata": {},
   "outputs": [
    {
     "name": "stdout",
     "output_type": "stream",
     "text": [
      "Initial Balance: 5000\n",
      "Deposit Successful\n",
      "Updated Balance after Deposit: 7000\n",
      "Withdrawal Successful\n",
      "Balance after Withdrawal: 6000\n",
      "Interest Amount: 300.0\n"
     ]
    }
   ],
   "source": [
    "class Account:\n",
    "    def __init__(self, account_number, account_holder, balance=0):\n",
    "        self.account_number = account_number\n",
    "        self.account_holder = account_holder\n",
    "        self.balance = balance\n",
    "\n",
    "    def getBalance(self):\n",
    "        return self.balance\n",
    "\n",
    "    def deposit(self, amount):\n",
    "        if amount > 0:\n",
    "            self.balance += amount\n",
    "            return True\n",
    "        else:\n",
    "            return False\n",
    "\n",
    "    def withdrawal(self, amount):\n",
    "        if 0 < amount <= self.balance:\n",
    "            self.balance -= amount\n",
    "            return True\n",
    "        else:\n",
    "            return False\n",
    "\n",
    "\n",
    "class SavingsAccount(Account):\n",
    "    def __init__(self, account_number, account_holder, balance=0, interest_rate=0):\n",
    "        super().__init__(account_number, account_holder, balance)\n",
    "        self.interest_rate = interest_rate\n",
    "\n",
    "    def interestAmount(self):\n",
    "        return self.balance * (self.interest_rate / 100)\n",
    "\n",
    "\n",
    "# Create a SavingsAccount object\n",
    "savings_account = SavingsAccount(\"12345\", \"John Doe\", balance=5000, interest_rate=5)\n",
    "\n",
    "# Display initial balance\n",
    "print(\"Initial Balance:\", savings_account.getBalance())\n",
    "\n",
    "# Deposit money\n",
    "if savings_account.deposit(2000):\n",
    "    print(\"Deposit Successful\")\n",
    "else:\n",
    "    print(\"Invalid Deposit Amount\")\n",
    "\n",
    "# Display updated balance\n",
    "print(\"Updated Balance after Deposit:\", savings_account.getBalance())\n",
    "\n",
    "# Withdraw money\n",
    "if savings_account.withdrawal(1000):\n",
    "    print(\"Withdrawal Successful\")\n",
    "else:\n",
    "    print(\"Insufficient Balance\")\n",
    "\n",
    "# Display final balance\n",
    "print(\"Balance after Withdrawal:\", savings_account.getBalance())\n",
    "\n",
    "# Calculate and display interest amount\n",
    "print(\"Interest Amount:\", savings_account.interestAmount())\n"
   ]
  }
 ],
 "metadata": {
  "kernelspec": {
   "display_name": "Python 3",
   "language": "python",
   "name": "python3"
  },
  "language_info": {
   "codemirror_mode": {
    "name": "ipython",
    "version": 3
   },
   "file_extension": ".py",
   "mimetype": "text/x-python",
   "name": "python",
   "nbconvert_exporter": "python",
   "pygments_lexer": "ipython3",
   "version": "3.11.4"
  },
  "orig_nbformat": 4
 },
 "nbformat": 4,
 "nbformat_minor": 2
}
